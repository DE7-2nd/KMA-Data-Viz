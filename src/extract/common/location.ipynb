{
 "cells": [
  {
   "cell_type": "code",
   "execution_count": 19,
   "id": "7eead9eb",
   "metadata": {},
   "outputs": [],
   "source": [
    "import os\n",
    "import pandas as pd\n",
    "from datetime import datetime\n",
    "import requests\n",
    "import dotenv\n",
    "\n",
    "\n",
    "dotenv.load_dotenv()\n",
    "API_KEY = os.getenv(\"API_KEY\")\n",
    "tm = datetime.now().strftime(\"%Y%m%H%M\")\n",
    "stn = 0  # 지상 관측 지점 코드"
   ]
  },
  {
   "cell_type": "code",
   "execution_count": 20,
   "id": "beec66ae",
   "metadata": {},
   "outputs": [],
   "source": [
    "class CreateDataFrameFromText:\n",
    "    \"\"\"\n",
    "    기상청에서 api 추출 후 데이터 파싱\n",
    "    - 형식이 제대로 되어있지 않아서 공백split()을 통해서 파싱 처리\n",
    "    - 헤더 정보 추출 시 주석에서 헤더 정보 추출\n",
    "    - 데이터 파싱 시 예외 케이스 처리\n",
    "    \"\"\"\n",
    "\n",
    "    def __init__(self, url, header=None):\n",
    "        self.url = url\n",
    "        self.header = header\n",
    "\n",
    "    def get_response(self):\n",
    "        response = requests.get(self.url)\n",
    "        response = response.text\n",
    "        return response\n",
    "\n",
    "    def get_data(self, txt):\n",
    "        \"\"\"\n",
    "        데이터 파싱\n",
    "        \"\"\"\n",
    "\n",
    "        # 예외 케이스\n",
    "        txt = txt.replace(\" Gun\", \"gun\")\n",
    "\n",
    "        lines = txt.strip().split(\"\\n\")\n",
    "        for idx, line in enumerate(lines):\n",
    "            if not line.startswith(\"#\"):\n",
    "                break\n",
    "        data_rows = lines[idx:-1]\n",
    "        data = [data_row.strip().split() for data_row in data_rows]\n",
    "        return data\n",
    "\n",
    "    def get_header_data(self, txt):\n",
    "        \"\"\"주석에서 헤더 정보 추출\"\"\"\n",
    "\n",
    "        headers = []\n",
    "        lines = txt.strip().split(\"\\n\")\n",
    "\n",
    "        for line in lines:\n",
    "            if line.startswith(\"#\") and \":\" in line:\n",
    "                header_name = line.split(\":\")[0].split()[-1]\n",
    "                headers.append(header_name)\n",
    "\n",
    "        return headers\n",
    "\n",
    "    def check_data(self, header, columns):\n",
    "        print(f\"header {header}, len: {len(header)}\")\n",
    "        for i in columns:\n",
    "            if len(i) != len(header):\n",
    "                print(f\"column len: {i},{len(i)}\")\n",
    "                return False\n",
    "        return True\n",
    "\n",
    "    def create_dataframe(self):\n",
    "        txt = self.get_response()\n",
    "        data = self.get_data(txt)\n",
    "\n",
    "        if self.header:\n",
    "            header = self.header\n",
    "        else:\n",
    "            header = self.get_header_data(txt)\n",
    "\n",
    "        if not self.check_data(header, data):\n",
    "            raise ValueError(\"header와 columns의 길이가 다릅니다.\")\n",
    "\n",
    "        df = pd.DataFrame(data, columns=header)\n",
    "        return df"
   ]
  },
  {
   "cell_type": "code",
   "execution_count": 22,
   "id": "bb43a21a",
   "metadata": {},
   "outputs": [
    {
     "name": "stdout",
     "output_type": "stream",
     "text": [
      "header ['STN_ID', 'LON', 'LAT', 'STN_SP', 'HT', 'HT_PA', 'HT_TA', 'HT_WD', 'HT_RN', 'STN_CD', 'STN_KO', 'STN_EN', 'FCT_ID', 'LAW_ID', 'BASIN'], len: 15\n",
      "  STN_ID           LON          LAT STN_SP      HT   HT_PA HT_TA  HT_WD HT_RN  \\\n",
      "0     90  128.56473000  38.25085000  35100   17.53   18.73  1.70  10.00  1.40   \n",
      "1     93  127.75443000  37.94738000  31201   95.78   96.78  1.50  10.00  1.40   \n",
      "2     95  127.30420000  38.14787000  31110  155.48  156.98  1.80  13.00  1.50   \n",
      "3     98  127.06070000  37.90188000  22200  115.62  116.74  1.70  10.00  1.00   \n",
      "4     99  126.76648000  37.88589000  22300   30.59   31.99  1.70  10.00  1.00   \n",
      "\n",
      "  STN_CD STN_KO        STN_EN    FCT_ID      LAW_ID BASIN  \n",
      "0     90     속초        Sokcho  11D20401  5182033035  ----  \n",
      "1    101    북춘천  Bukchuncheon  11D10301  5111025024  ----  \n",
      "2    101     철원      Cheorwon  11D10101  5178025624  ----  \n",
      "3    119    동두천   Dongducheon  11B20401  4125010300  ----  \n",
      "4    119     파주          Paju  11B20305  4148025025  ----  \n"
     ]
    }
   ],
   "source": [
    "url_location = f\"https://apihub.kma.go.kr/api/typ01/url/stn_inf.php?inf=SFC&tm={tm}&help=1&authKey={API_KEY}\"\n",
    "# 지상 관측 지점 정보\n",
    "\n",
    "header_location = [\n",
    "    \"STN_ID\",\n",
    "    \"LON\",\n",
    "    \"LAT\",\n",
    "    \"STN_SP\",\n",
    "    \"HT\",\n",
    "    \"HT_PA\",\n",
    "    \"HT_TA\",\n",
    "    \"HT_WD\",\n",
    "    \"HT_RN\",\n",
    "    \"STN_CD\",\n",
    "    \"STN_KO\",\n",
    "    \"STN_EN\",\n",
    "    \"FCT_ID\",\n",
    "    \"LAW_ID\",\n",
    "    \"BASIN\",\n",
    "]\n",
    "\n",
    "df = CreateDataFrameFromText(url_location, header_location).create_dataframe()\n",
    "\n",
    "print(df.head())"
   ]
  },
  {
   "cell_type": "code",
   "execution_count": null,
   "id": "f2f4c962",
   "metadata": {},
   "outputs": [
    {
     "name": "stdout",
     "output_type": "stream",
     "text": [
      "   STN_ID        LON       LAT  STN_SP      HT   HT_PA  HT_TA  HT_WD  HT_RN  \\\n",
      "0      90  128.56473  38.25085   35100   17.53   18.73    1.7   10.0    1.4   \n",
      "1      93  127.75443  37.94738   31201   95.78   96.78    1.5   10.0    1.4   \n",
      "2      95  127.30420  38.14787   31110  155.48  156.98    1.8   13.0    1.5   \n",
      "3      98  127.06070  37.90188   22200  115.62  116.74    1.7   10.0    1.0   \n",
      "4      99  126.76648  37.88589   22300   30.59   31.99    1.7   10.0    1.0   \n",
      "\n",
      "   STN_CD STN_KO        STN_EN    FCT_ID      LAW_ID BASIN  \n",
      "0      90     속초        Sokcho  11D20401  5182033035  ----  \n",
      "1     101    북춘천  Bukchuncheon  11D10301  5111025024  ----  \n",
      "2     101     철원      Cheorwon  11D10101  5178025624  ----  \n",
      "3     119    동두천   Dongducheon  11B20401  4125010300  ----  \n",
      "4     119     파주          Paju  11B20305  4148025025  ----  \n"
     ]
    }
   ],
   "source": [
    "location_df = pd.read_csv(\"./location.csv\")\n",
    "\n",
    "print(location_df.head())"
   ]
  },
  {
   "cell_type": "code",
   "execution_count": 2,
   "id": "1c3a6f49",
   "metadata": {},
   "outputs": [
    {
     "name": "stdout",
     "output_type": "stream",
     "text": [
      "   STN_ID        LON       LAT STN_KO        STN_EN    FCT_ID\n",
      "0      90  128.56473  38.25085     속초        Sokcho  11D20401\n",
      "1      93  127.75443  37.94738    북춘천  Bukchuncheon  11D10301\n",
      "2      95  127.30420  38.14787     철원      Cheorwon  11D10101\n",
      "3      98  127.06070  37.90188    동두천   Dongducheon  11B20401\n",
      "4      99  126.76648  37.88589     파주          Paju  11B20305\n"
     ]
    }
   ],
   "source": [
    "selected_columns = [\"STN_ID\", \"LON\", \"LAT\", \"STN_KO\", \"STN_EN\", \"FCT_ID\"]\n",
    "df_selected = location_df[selected_columns]\n",
    "\n",
    "print(df_selected.head())"
   ]
  },
  {
   "cell_type": "code",
   "execution_count": 4,
   "id": "a08694cd",
   "metadata": {},
   "outputs": [
    {
     "name": "stdout",
     "output_type": "stream",
     "text": [
      "   std_id        lon       lat stn_ko        stn_en    fct_id\n",
      "0      90  128.56473  38.25085     속초        Sokcho  11D20401\n",
      "1      93  127.75443  37.94738    북춘천  Bukchuncheon  11D10301\n",
      "2      95  127.30420  38.14787     철원      Cheorwon  11D10101\n",
      "3      98  127.06070  37.90188    동두천   Dongducheon  11B20401\n",
      "4      99  126.76648  37.88589     파주          Paju  11B20305\n"
     ]
    }
   ],
   "source": [
    "headers = [\"std_id\", \"lon\", \"lat\", \"stn_ko\", \"stn_en\", \"fct_id\"]\n",
    "\n",
    "df_selected.columns = headers\n",
    "\n",
    "print(df_selected.head())\n",
    "\n",
    "df_selected.to_csv(\"./../../data/common/observation_location.csv\", index=False)"
   ]
  }
 ],
 "metadata": {
  "kernelspec": {
   "display_name": "venv",
   "language": "python",
   "name": "python3"
  },
  "language_info": {
   "codemirror_mode": {
    "name": "ipython",
    "version": 3
   },
   "file_extension": ".py",
   "mimetype": "text/x-python",
   "name": "python",
   "nbconvert_exporter": "python",
   "pygments_lexer": "ipython3",
   "version": "3.11.13"
  }
 },
 "nbformat": 4,
 "nbformat_minor": 5
}
