{
 "cells": [
  {
   "cell_type": "markdown",
   "id": "05eb6179",
   "metadata": {},
   "source": [
    "## 라이브러리 로드 및 환경변수 로드\n"
   ]
  },
  {
   "cell_type": "code",
   "execution_count": 1,
   "id": "4a844a4a",
   "metadata": {},
   "outputs": [],
   "source": [
    "import os\n",
    "from datetime import datetime\n",
    "from dotenv import load_dotenv\n",
    "import requests\n",
    "import pandas as pd\n",
    "\n",
    "load_dotenv()\n",
    "# 환경 변수 로드\n",
    "API_KEY = os.getenv(\"API_KEY\")\n",
    "tm = datetime.now().strftime(\"%Y%m%H%M\")\n",
    "stn = 0  # 지상 관측 지점 코드"
   ]
  },
  {
   "cell_type": "markdown",
   "id": "0cc2c19e",
   "metadata": {},
   "source": [
    "## API 로 받아온 데이터의 DataFrame으로의 변환 저장\n",
    "\n",
    "- `class CreateDataFrameFromText`\n",
    "- `class CreateDataFrameFromJson`\n"
   ]
  },
  {
   "cell_type": "code",
   "execution_count": 2,
   "id": "497b9567",
   "metadata": {},
   "outputs": [],
   "source": [
    "class CreateDataFrameFromText:\n",
    "    \"\"\"\n",
    "    기상청에서 api 추출 후 데이터 파싱\n",
    "    - 형식이 제대로 되어있지 않아서 공백split()을 통해서 파싱 처리\n",
    "    - 헤더 정보 추출 시 주석에서 헤더 정보 추출\n",
    "    - 데이터 파싱 시 예외 케이스 처리\n",
    "    \"\"\"\n",
    "\n",
    "    def __init__(self, url, header=None):\n",
    "        self.url = url\n",
    "        self.header = header\n",
    "\n",
    "    def get_response(self):\n",
    "        response = requests.get(self.url)\n",
    "        response = response.text\n",
    "        return response\n",
    "\n",
    "    def get_data(self, txt):\n",
    "        \"\"\"\n",
    "        데이터 파싱\n",
    "        \"\"\"\n",
    "\n",
    "        # 예외 케이스\n",
    "        txt = txt.replace(\" Gun\", \"gun\")\n",
    "\n",
    "        lines = txt.strip().split(\"\\n\")\n",
    "        for idx, line in enumerate(lines):\n",
    "            if not line.startswith(\"#\"):\n",
    "                break\n",
    "        data_rows = lines[idx:-1]\n",
    "        data = [data_row.strip().split() for data_row in data_rows]\n",
    "        return data\n",
    "\n",
    "    def get_header_data(self, txt):\n",
    "        \"\"\"주석에서 헤더 정보 추출\"\"\"\n",
    "\n",
    "        headers = []\n",
    "        lines = txt.strip().split(\"\\n\")\n",
    "\n",
    "        for line in lines:\n",
    "            if line.startswith(\"#\") and \":\" in line:\n",
    "                header_name = line.split(\":\")[0].split()[-1]\n",
    "                headers.append(header_name)\n",
    "\n",
    "        return headers\n",
    "\n",
    "    def check_data(self, header, columns):\n",
    "        print(f\"header {header}, len: {len(header)}\")\n",
    "        for i in columns:\n",
    "            if len(i) != len(header):\n",
    "                print(f\"column len: {i},{len(i)}\")\n",
    "                return False\n",
    "        return True\n",
    "\n",
    "    def create_dataframe(self):\n",
    "        txt = self.get_response()\n",
    "        data = self.get_data(txt)\n",
    "\n",
    "        if self.header:\n",
    "            header = self.header\n",
    "        else:\n",
    "            header = self.get_header_data(txt)\n",
    "\n",
    "        if not self.check_data(header, data):\n",
    "            raise ValueError(\"header와 columns의 길이가 다릅니다.\")\n",
    "\n",
    "        df = pd.DataFrame(data, columns=header)\n",
    "        return df"
   ]
  },
  {
   "cell_type": "code",
   "execution_count": 3,
   "id": "79dfc092",
   "metadata": {},
   "outputs": [],
   "source": [
    "class CreateDataFrameFromJson:\n",
    "    \"\"\"\n",
    "    기상청에서 api 추출 후 데이터 파싱\n",
    "    - json 형식으로 추출 후 데이터 파싱\n",
    "    \"\"\"\n",
    "\n",
    "    def __init__(self, url, tm=None):\n",
    "        self.url = url\n",
    "        self.tm = tm\n",
    "\n",
    "    def get_response(self):\n",
    "        response = requests.get(self.url)\n",
    "        response = response.json()\n",
    "        return response[\"response\"][\"body\"][\"items\"][\"item\"]\n",
    "\n",
    "    def create_dataframe(self):\n",
    "        data = self.get_response()\n",
    "        print(len(data))\n",
    "        df = pd.DataFrame(data)\n",
    "        # df.insert(0, \"TM\", self.tm) -> 예보 시각 추가\n",
    "        return df"
   ]
  },
  {
   "cell_type": "markdown",
   "id": "b7b2afbb",
   "metadata": {},
   "source": [
    "#### CreateDataFrameFromText 테스트\n"
   ]
  },
  {
   "cell_type": "code",
   "execution_count": 8,
   "id": "2499cea3",
   "metadata": {},
   "outputs": [
    {
     "name": "stdout",
     "output_type": "stream",
     "text": [
      "https://apihub.kma.go.kr/api/typ01/url/stn_inf.php?inf=SFC&tm=2025101735&help=1&authKey=SlrOsr3ATpCazrK9wM6QMg\n",
      "header ['STN_ID', 'LON', 'LAT', 'STN_SP', 'HT', 'HT_PA', 'HT_TA', 'HT_WD', 'HT_RN', 'STN_CD', 'STN_KO', 'STN_EN', 'FCT_ID', 'LAW_ID', 'BASIN'], len: 15\n",
      "   STN_ID           LON          LAT STN_SP      HT   HT_PA HT_TA  HT_WD  \\\n",
      "0      90  128.56473000  38.25085000  35100   17.53   18.73  1.70  10.00   \n",
      "1      93  127.75443000  37.94738000  31201   95.78   96.78  1.50  10.00   \n",
      "2      95  127.30420000  38.14787000  31110  155.48  156.98  1.80  13.00   \n",
      "3      98  127.06070000  37.90188000  22200  115.62  116.74  1.70  10.00   \n",
      "4      99  126.76648000  37.88589000  22300   30.59   31.99  1.70  10.00   \n",
      "..    ...           ...          ...    ...     ...     ...   ...    ...   \n",
      "92    288  128.74412000  35.49147000  76300    8.31   12.50  2.00  10.00   \n",
      "93    289  127.87910000  35.41300000  76400  138.22  138.80  1.60  10.00   \n",
      "94    294  128.60459000  34.88818000  76500   44.83   46.70  1.70  10.00   \n",
      "95    295  127.92641000  34.81662000  76600   45.71   47.01  1.80  10.00   \n",
      "96    296  128.96024000  35.21778000  75001    3.00    4.50  1.50  10.00   \n",
      "\n",
      "   HT_RN STN_CD STN_KO        STN_EN    FCT_ID      LAW_ID BASIN  \n",
      "0   1.40     90     속초        Sokcho  11D20401  5182033035  ----  \n",
      "1   1.40    101    북춘천  Bukchuncheon  11D10301  5111025024  ----  \n",
      "2   1.50    101     철원      Cheorwon  11D10101  5178025624  ----  \n",
      "3   1.00    119    동두천   Dongducheon  11B20401  4125010300  ----  \n",
      "4   1.00    119     파주          Paju  11B20305  4148025025  ----  \n",
      "..   ...    ...    ...           ...       ...         ...   ...  \n",
      "92  1.30    152     밀양       Miryang  11H20601  4827010200  ----  \n",
      "93  0.60    155     산청     Sancheong  11H20703  4886025023  ----  \n",
      "94  0.60    159     거제         Geoje  11H20403  4831010800  ----  \n",
      "95  0.80    159     남해        Namhae  11H20405  4884031021  ----  \n",
      "96  0.70    159    북부산      Bukbusan  11H20201  2644010100  ----  \n",
      "\n",
      "[97 rows x 15 columns]\n"
     ]
    }
   ],
   "source": [
    "urls = {\n",
    "    \"location\": f\"https://apihub.kma.go.kr/api/typ01/url/stn_inf.php?inf=SFC&tm={tm}&help=1&authKey={API_KEY}\",  # 지상 관측 지점 정보\n",
    "    \"time_series\": f\"https://apihub.kma.go.kr/api/typ01/url/kma_sfctm2.php?tm={tm}&help=1&authKey={API_KEY}\",  # 단일 시간 모든 지점\n",
    "    \"time_series_by_stn\": f\"https://apihub.kma.go.kr/api/typ01/url/kma_sfctm2.php?tm={tm}&stn={stn}&help=1&authKey={API_KEY}\",  # 기간 시간 특정 지점\n",
    "}\n",
    "\n",
    "\n",
    "time_series_url = urls[\"location\"]\n",
    "print(time_series_url)\n",
    "\n",
    "header_location = [\n",
    "    \"STN_ID\",\n",
    "    \"LON\",\n",
    "    \"LAT\",\n",
    "    \"STN_SP\",\n",
    "    \"HT\",\n",
    "    \"HT_PA\",\n",
    "    \"HT_TA\",\n",
    "    \"HT_WD\",\n",
    "    \"HT_RN\",\n",
    "    \"STN_CD\",\n",
    "    \"STN_KO\",\n",
    "    \"STN_EN\",\n",
    "    \"FCT_ID\",\n",
    "    \"LAW_ID\",\n",
    "    \"BASIN\",\n",
    "]\n",
    "df = CreateDataFrameFromText(\n",
    "    time_series_url, header_location\n",
    ").create_dataframe()\n",
    "df.to_csv(\"./../../data/common/location.csv\", index=False)\n",
    "\n",
    "print(df)"
   ]
  },
  {
   "cell_type": "markdown",
   "id": "eae8b81a",
   "metadata": {},
   "source": [
    "#### CreateDataFrameFromJson 테스트 및 예보 데이터 취합 & 저장\n"
   ]
  },
  {
   "cell_type": "markdown",
   "id": "ea3c6535",
   "metadata": {},
   "source": [
    "예보 24시간 동안만 확인 가능한 api 최근 24시간 자료\n",
    "\n",
    "- 하나의 datetime을 설정하여 url 체크 및 csv 덧붙이기\n",
    "- https://apihub.kma.go.kr/api/typ02/openApi/MidFcstInfoService/getMidLandFcst\n"
   ]
  },
  {
   "cell_type": "code",
   "execution_count": null,
   "id": "b7434653",
   "metadata": {},
   "outputs": [
    {
     "name": "stdout",
     "output_type": "stream",
     "text": [
      "202510240600\n"
     ]
    }
   ],
   "source": [
    "tm_noon = datetime.now().strftime(\"202510240600\")\n",
    "print(tm_noon)\n",
    "# 일 2회(06:00,18:00)회 생성 되며 발표시각을 입력 YYYYMMDD0600(1800)-최근 24시간 자료만 제공\n",
    "\n",
    "raining_forcast_url = f\"https://apihub.kma.go.kr/api/typ02/openApi/MidFcstInfoService/getMidLandFcst?pageNo=1&numOfRows=10&dataType=JSON&regId=11B00000&tmFc={tm_noon}&authKey={API_KEY}\"\n",
    "\n",
    "\n",
    "new_df = CreateDataFrameFromJson(\n",
    "    raining_forcast_url, tm_noon\n",
    ").create_dataframe()\n",
    "filename = \"./forecast_rain.csv\"\n",
    "\n",
    "# ---------------------- check csv file\n",
    "# try:\n",
    "#     df = pd.read_csv(filename)\n",
    "#     combined_df = pd.concat([df, new_df], ignore_index=True)\n",
    "#     combined_df.to_csv(filename, index=False)\n",
    "\n",
    "# except FileNotFoundError:\n",
    "#     new_df.to_csv(filename, mode=\"w\", header=True, index=False)"
   ]
  },
  {
   "cell_type": "markdown",
   "id": "5f8a2e38",
   "metadata": {},
   "source": [
    "예보 지역 구분 api\n",
    "\n",
    "- 총 데이터 855개\n",
    "- 모두 페이지 별로 업데이트 해서 FCT_loc.csv 파일로 저장\n"
   ]
  },
  {
   "cell_type": "code",
   "execution_count": 12,
   "id": "92c4efaa",
   "metadata": {},
   "outputs": [
    {
     "name": "stdout",
     "output_type": "stream",
     "text": [
      "100\n",
      "100\n",
      "100\n",
      "100\n",
      "100\n",
      "100\n",
      "100\n",
      "55\n"
     ]
    }
   ],
   "source": [
    "for idx in range(1, 9):\n",
    "    FCT_loc_url = f\"https://apihub.kma.go.kr/api/typ02/openApi/FcstZoneInfoService/getFcstZoneCd?pageNo={idx}&numOfRows=100&dataType=JSON&authKey={API_KEY}\"\n",
    "    data = CreateDataFrameFromJson(FCT_loc_url).create_dataframe()\n",
    "    data.to_csv(\"./FCT_loc.csv\", mode=\"a\", header=False, index=False)"
   ]
  },
  {
   "cell_type": "markdown",
   "id": "9d8f490a",
   "metadata": {},
   "source": [
    "csv 파일 인코딩 문제로 인해 변환\n",
    "\n",
    "- https://data.kma.go.kr/data/weatherReport/mrfList.do?pgmNo=646\n",
    "- 중기 예보 데이터 파일셋을 전체로 2025년을 가져와서 저장 후 변환\n"
   ]
  },
  {
   "cell_type": "code",
   "execution_count": null,
   "id": "53197827",
   "metadata": {},
   "outputs": [],
   "source": [
    "forecast_data = pd.read_csv(\"./FCT_2025.csv\", encoding=\"euc-kr\")\n",
    "forecast_data.to_csv(\"./FCT_2025.csv\", index=False)"
   ]
  },
  {
   "cell_type": "markdown",
   "id": "81aa264c",
   "metadata": {},
   "source": [
    "중기예보 데이터 셋 확인 및 변환\n"
   ]
  },
  {
   "cell_type": "code",
   "execution_count": 64,
   "id": "21d609b4",
   "metadata": {},
   "outputs": [
    {
     "name": "stdout",
     "output_type": "stream",
     "text": [
      "                 발표시각        지역           예보시각       예보  강수확률(%)\n",
      "0      2025-01-01 06시  서울.인천.경기  2025-01-05 오전     구름많음       20\n",
      "1      2025-01-01 06시  서울.인천.경기  2025-01-05 오후  흐리고 비/눈       70\n",
      "2      2025-01-01 06시  서울.인천.경기  2025-01-06 오전  흐리고 비/눈       60\n",
      "3      2025-01-01 06시  서울.인천.경기  2025-01-06 오후     구름많음       20\n",
      "4      2025-01-01 06시  서울.인천.경기  2025-01-07 오전     구름많음       20\n",
      "...               ...       ...            ...      ...      ...\n",
      "59195  2025-10-23 18시      경상남도  2025-10-30 오전     구름많음       30\n",
      "59196  2025-10-23 18시      경상남도  2025-10-30 오후     구름많음       30\n",
      "59197  2025-10-23 18시      경상남도  2025-10-31 오전       흐림       40\n",
      "59198  2025-10-23 18시      경상남도  2025-11-01 오전       맑음       20\n",
      "59199  2025-10-23 18시      경상남도  2025-11-02 오전       맑음       10\n",
      "\n",
      "[59200 rows x 5 columns]\n",
      "Index(['발표시각', '지역', '예보시각', '예보', '강수확률(%)'], dtype='object')\n"
     ]
    }
   ],
   "source": [
    "forecast = pd.read_csv(\"./FCT_2025.csv\")\n",
    "print(forecast)\n",
    "print(forecast.columns)"
   ]
  },
  {
   "cell_type": "code",
   "execution_count": null,
   "id": "9ea8fd80",
   "metadata": {},
   "outputs": [
    {
     "name": "stdout",
     "output_type": "stream",
     "text": [
      "발표시각       object\n",
      "지역         object\n",
      "예보시각       object\n",
      "예보         object\n",
      "강수확률(%)     int64\n",
      "dtype: object\n",
      "(59200, 5)\n",
      "<class 'pandas.core.frame.DataFrame'>\n",
      "RangeIndex: 59200 entries, 0 to 59199\n",
      "Data columns (total 5 columns):\n",
      " #   Column   Non-Null Count  Dtype \n",
      "---  ------   --------------  ----- \n",
      " 0   발표시각     59200 non-null  object\n",
      " 1   지역       59200 non-null  object\n",
      " 2   예보시각     59200 non-null  object\n",
      " 3   예보       59200 non-null  object\n",
      " 4   강수확률(%)  59200 non-null  int64 \n",
      "dtypes: int64(1), object(4)\n",
      "memory usage: 2.3+ MB\n",
      "None\n",
      "            강수확률(%)\n",
      "count  59200.000000\n",
      "mean      31.448480\n",
      "std       18.145816\n",
      "min       10.000000\n",
      "25%       20.000000\n",
      "50%       30.000000\n",
      "75%       40.000000\n",
      "max       90.000000\n",
      "발표시각       0\n",
      "지역         0\n",
      "예보시각       0\n",
      "예보         0\n",
      "강수확률(%)    0\n",
      "dtype: int64\n",
      "발표시각       0.0\n",
      "지역         0.0\n",
      "예보시각       0.0\n",
      "예보         0.0\n",
      "강수확률(%)    0.0\n",
      "dtype: float64\n"
     ]
    }
   ],
   "source": [
    "print(forecast.dtypes)\n",
    "print(forecast.shape)\n",
    "print(forecast.info())\n",
    "print(forecast.describe())\n",
    "print(forecast.isnull().sum())\n",
    "print(forecast.isnull().sum() / len(forecast))"
   ]
  },
  {
   "cell_type": "markdown",
   "id": "20a73fb5",
   "metadata": {},
   "source": [
    "지역확인\n"
   ]
  },
  {
   "cell_type": "code",
   "execution_count": 31,
   "id": "0b3c8a55",
   "metadata": {},
   "outputs": [
    {
     "name": "stdout",
     "output_type": "stream",
     "text": [
      "=== 지역별 고유값 ===\n",
      "['서울.인천.경기' '충청북도' '충청남도' '강원영서' '강원영동' '전북자치도' '전라남도' '제주도' '경상북도' '경상남도']\n",
      "\n",
      "총 지역 수: 10\n",
      "\n",
      "=== 지역별 데이터 개수 ===\n",
      "지역\n",
      "서울.인천.경기    5920\n",
      "충청북도        5920\n",
      "충청남도        5920\n",
      "강원영서        5920\n",
      "강원영동        5920\n",
      "전북자치도       5920\n",
      "전라남도        5920\n",
      "제주도         5920\n",
      "경상북도        5920\n",
      "경상남도        5920\n",
      "Name: count, dtype: int64\n"
     ]
    }
   ],
   "source": [
    "# 지역 컬럼의 고유값 확인\n",
    "print(\"=== 지역별 고유값 ===\")\n",
    "print(forecast[\"지역\"].unique())\n",
    "print(f\"\\n총 지역 수: {forecast['지역'].nunique()}\")\n",
    "\n",
    "# 지역별 개수 확인\n",
    "print(\"\\n=== 지역별 데이터 개수 ===\")\n",
    "print(forecast[\"지역\"].value_counts())"
   ]
  },
  {
   "cell_type": "markdown",
   "id": "7ee73d4f",
   "metadata": {},
   "source": [
    "예보 값 확인\n"
   ]
  },
  {
   "cell_type": "code",
   "execution_count": 33,
   "id": "e8369745",
   "metadata": {},
   "outputs": [
    {
     "name": "stdout",
     "output_type": "stream",
     "text": [
      "=== 예보별 고유값 ===\n",
      "['구름많음' '흐리고 비/눈' '맑음' '흐림' '구름많고 비/눈' '흐리고 눈' '흐리고 비' '구름많고 눈' '구름많고 비'\n",
      " '구름많고 소나기']\n",
      "\n",
      "총 예보 종류 수: 10\n",
      "\n",
      "=== 예보별 데이터 개수 ===\n",
      "예보\n",
      "구름많음        22970\n",
      "맑음          16184\n",
      "흐림          14338\n",
      "흐리고 비        4519\n",
      "흐리고 비/눈       721\n",
      "흐리고 눈         257\n",
      "구름많고 비/눈       90\n",
      "구름많고 소나기       59\n",
      "구름많고 비         45\n",
      "구름많고 눈         17\n",
      "Name: count, dtype: int64\n"
     ]
    }
   ],
   "source": [
    "# 예보 컬럼의 고유값 확인\n",
    "print(\"=== 예보별 고유값 ===\")\n",
    "print(forecast[\"예보\"].unique())\n",
    "print(f\"\\n총 예보 종류 수: {forecast['예보'].nunique()}\")\n",
    "\n",
    "# 예보별 개수 확인\n",
    "print(\"\\n=== 예보별 데이터 개수 ===\")\n",
    "print(forecast[\"예보\"].value_counts())"
   ]
  },
  {
   "cell_type": "code",
   "execution_count": 65,
   "id": "c0c8a037",
   "metadata": {},
   "outputs": [
    {
     "name": "stdout",
     "output_type": "stream",
     "text": [
      "          지역      지역코드\n",
      "44      강원영동  11D20000\n",
      "33      강원영서  11D10000\n",
      "99      경상남도  11H20000\n",
      "88      경상북도  11H10000\n",
      "0   서울.인천.경기  11B00000\n",
      "66      전라남도  11F20000\n",
      "55     전북자치도  11F10000\n",
      "77       제주도  11G00000\n",
      "22      충청남도  11C20000\n",
      "11      충청북도  11C10000\n"
     ]
    }
   ],
   "source": [
    "# 지역명과 코드 매핑 딕셔너리 생성\n",
    "region_mapping = {\n",
    "    \"서울.인천.경기\": \"11B00000\",\n",
    "    \"충청북도\": \"11C10000\",\n",
    "    \"충청남도\": \"11C20000\",\n",
    "    \"강원영서\": \"11D10000\",\n",
    "    \"강원영동\": \"11D20000\",\n",
    "    \"전북자치도\": \"11F10000\",\n",
    "    \"전라남도\": \"11F20000\",\n",
    "    \"제주도\": \"11G00000\",\n",
    "    \"경상북도\": \"11H10000\",\n",
    "    \"경상남도\": \"11H20000\",\n",
    "}\n",
    "\n",
    "forecast[\"지역코드\"] = forecast[\"지역\"].map(region_mapping)\n",
    "print(forecast[[\"지역\", \"지역코드\"]].drop_duplicates().sort_values(\"지역\"))"
   ]
  },
  {
   "cell_type": "code",
   "execution_count": 66,
   "id": "50a896c5",
   "metadata": {},
   "outputs": [
    {
     "name": "stdout",
     "output_type": "stream",
     "text": [
      "             발표시각        지역           예보시각       예보  강수확률(%)      지역코드\n",
      "0  2025-01-01 06시  서울.인천.경기  2025-01-05 오전     구름많음       20  11B00000\n",
      "1  2025-01-01 06시  서울.인천.경기  2025-01-05 오후  흐리고 비/눈       70  11B00000\n",
      "2  2025-01-01 06시  서울.인천.경기  2025-01-06 오전  흐리고 비/눈       60  11B00000\n",
      "3  2025-01-01 06시  서울.인천.경기  2025-01-06 오후     구름많음       20  11B00000\n",
      "4  2025-01-01 06시  서울.인천.경기  2025-01-07 오전     구름많음       20  11B00000\n"
     ]
    }
   ],
   "source": [
    "print(forecast.head())\n",
    "forecast.to_csv(\"./FCT_2025_with_location_code.csv\", index=False)"
   ]
  },
  {
   "cell_type": "markdown",
   "id": "5fc0d0d1",
   "metadata": {},
   "source": [
    "그냥 sorting만 해주는 그룹화. 모아주는 역할만 함\n"
   ]
  },
  {
   "cell_type": "code",
   "execution_count": 61,
   "id": "bbd0fc2a",
   "metadata": {},
   "outputs": [
    {
     "name": "stdout",
     "output_type": "stream",
     "text": [
      "=== 그룹화된 데이터 ===\n",
      "              예보시각        지역            발표시각  강수확률(%)\n",
      "170  2025-01-07 오후      충청남도  2025-01-01 06시     20.0\n",
      "171  2025-01-07 오후      충청남도  2025-01-01 18시     20.0\n",
      "172  2025-01-07 오후      충청남도  2025-01-02 06시     20.0\n",
      "173  2025-01-07 오후      충청남도  2025-01-02 18시     20.0\n",
      "174  2025-01-07 오후      충청남도  2025-01-03 06시     40.0\n",
      "175  2025-01-07 오후      충청북도  2025-01-01 06시     20.0\n",
      "176  2025-01-07 오후      충청북도  2025-01-01 18시     20.0\n",
      "177  2025-01-07 오후      충청북도  2025-01-02 06시     20.0\n",
      "178  2025-01-07 오후      충청북도  2025-01-02 18시     20.0\n",
      "179  2025-01-07 오후      충청북도  2025-01-03 06시     30.0\n",
      "180  2025-01-08 오전      강원영동  2025-01-01 06시     20.0\n",
      "181  2025-01-08 오전      강원영동  2025-01-01 18시     10.0\n",
      "182  2025-01-08 오전      강원영동  2025-01-02 06시     10.0\n",
      "183  2025-01-08 오전      강원영동  2025-01-02 18시     10.0\n",
      "184  2025-01-08 오전      강원영동  2025-01-03 06시     10.0\n",
      "185  2025-01-08 오전      강원영동  2025-01-03 18시     10.0\n",
      "186  2025-01-08 오전      강원영동  2025-01-04 06시     10.0\n",
      "187  2025-01-08 오전      강원영서  2025-01-01 06시     10.0\n",
      "188  2025-01-08 오전      강원영서  2025-01-01 18시     10.0\n",
      "189  2025-01-08 오전      강원영서  2025-01-02 06시     10.0\n",
      "190  2025-01-08 오전      강원영서  2025-01-02 18시     10.0\n",
      "191  2025-01-08 오전      강원영서  2025-01-03 06시     10.0\n",
      "192  2025-01-08 오전      강원영서  2025-01-03 18시     10.0\n",
      "193  2025-01-08 오전      강원영서  2025-01-04 06시     10.0\n",
      "194  2025-01-08 오전      경상남도  2025-01-01 06시     10.0\n",
      "195  2025-01-08 오전      경상남도  2025-01-01 18시     10.0\n",
      "196  2025-01-08 오전      경상남도  2025-01-02 06시     10.0\n",
      "197  2025-01-08 오전      경상남도  2025-01-02 18시     10.0\n",
      "198  2025-01-08 오전      경상남도  2025-01-03 06시     10.0\n",
      "199  2025-01-08 오전      경상남도  2025-01-03 18시     10.0\n",
      "200  2025-01-08 오전      경상남도  2025-01-04 06시     20.0\n",
      "201  2025-01-08 오전      경상북도  2025-01-01 06시     10.0\n",
      "202  2025-01-08 오전      경상북도  2025-01-01 18시     10.0\n",
      "203  2025-01-08 오전      경상북도  2025-01-02 06시     10.0\n",
      "204  2025-01-08 오전      경상북도  2025-01-02 18시     10.0\n",
      "205  2025-01-08 오전      경상북도  2025-01-03 06시     10.0\n",
      "206  2025-01-08 오전      경상북도  2025-01-03 18시     10.0\n",
      "207  2025-01-08 오전      경상북도  2025-01-04 06시     20.0\n",
      "208  2025-01-08 오전  서울.인천.경기  2025-01-01 06시     10.0\n",
      "209  2025-01-08 오전  서울.인천.경기  2025-01-01 18시     10.0\n",
      "210  2025-01-08 오전  서울.인천.경기  2025-01-02 06시     10.0\n",
      "211  2025-01-08 오전  서울.인천.경기  2025-01-02 18시     10.0\n",
      "212  2025-01-08 오전  서울.인천.경기  2025-01-03 06시     10.0\n",
      "213  2025-01-08 오전  서울.인천.경기  2025-01-03 18시     10.0\n",
      "214  2025-01-08 오전  서울.인천.경기  2025-01-04 06시     10.0\n",
      "215  2025-01-08 오전      전라남도  2025-01-01 06시     70.0\n",
      "216  2025-01-08 오전      전라남도  2025-01-01 18시     70.0\n",
      "217  2025-01-08 오전      전라남도  2025-01-02 06시     70.0\n",
      "218  2025-01-08 오전      전라남도  2025-01-02 18시     70.0\n",
      "219  2025-01-08 오전      전라남도  2025-01-03 06시     90.0\n",
      "220  2025-01-08 오전      전라남도  2025-01-03 18시     80.0\n"
     ]
    }
   ],
   "source": [
    "grouped_forecast = (\n",
    "    forecast.groupby([\"예보시각\", \"지역\", \"발표시각\"])[\"강수확률(%)\"]\n",
    "    .mean()\n",
    "    .reset_index()\n",
    ")\n",
    "\n",
    "print(\"=== 그룹화된 데이터 ===\")\n",
    "print(grouped_forecast.loc[170:220])"
   ]
  },
  {
   "cell_type": "markdown",
   "id": "7c0f4f78",
   "metadata": {},
   "source": [
    "4일전 - 7일전에 예측한 값에 대한 평균을 구하는 그룹화\n"
   ]
  },
  {
   "cell_type": "code",
   "execution_count": null,
   "id": "7ec90018",
   "metadata": {},
   "outputs": [
    {
     "name": "stdout",
     "output_type": "stream",
     "text": [
      "=== 그룹화된 데이터 ===\n",
      "              예보시각        지역    강수확률(%)\n",
      "170  2025-01-13 오후      강원영동  10.000000\n",
      "171  2025-01-13 오후      강원영서  21.428571\n",
      "172  2025-01-13 오후      경상남도  10.000000\n",
      "173  2025-01-13 오후      경상북도  10.000000\n",
      "174  2025-01-13 오후  서울.인천.경기  17.142857\n",
      "175  2025-01-13 오후      전라남도  21.428571\n",
      "176  2025-01-13 오후     전북자치도  20.000000\n",
      "177  2025-01-13 오후       제주도  31.428571\n",
      "178  2025-01-13 오후      충청남도  18.571429\n",
      "179  2025-01-13 오후      충청북도  18.571429\n",
      "180  2025-01-14 오전      강원영동  13.846154\n",
      "181  2025-01-14 오전      강원영서  34.615385\n",
      "182  2025-01-14 오전      경상남도  10.769231\n",
      "183  2025-01-14 오전      경상북도  13.846154\n",
      "184  2025-01-14 오전  서울.인천.경기  18.461538\n",
      "185  2025-01-14 오전      전라남도  26.923077\n",
      "186  2025-01-14 오전     전북자치도  28.461538\n",
      "187  2025-01-14 오전       제주도  26.923077\n",
      "188  2025-01-14 오전      충청남도  23.076923\n",
      "189  2025-01-14 오전      충청북도  19.230769\n",
      "190  2025-01-14 오후      강원영동  10.000000\n",
      "191  2025-01-14 오후      강원영서  20.000000\n",
      "192  2025-01-14 오후      경상남도  25.714286\n",
      "193  2025-01-14 오후      경상북도  22.857143\n",
      "194  2025-01-14 오후  서울.인천.경기  14.285714\n",
      "195  2025-01-14 오후      전라남도  30.000000\n",
      "196  2025-01-14 오후     전북자치도  31.428571\n",
      "197  2025-01-14 오후       제주도  34.285714\n",
      "198  2025-01-14 오후      충청남도  30.000000\n",
      "199  2025-01-14 오후      충청북도  30.000000\n",
      "200  2025-01-15 오전      강원영동  13.076923\n",
      "201  2025-01-15 오전      강원영서  16.923077\n",
      "202  2025-01-15 오전      경상남도  22.307692\n",
      "203  2025-01-15 오전      경상북도  18.461538\n",
      "204  2025-01-15 오전  서울.인천.경기  12.307692\n",
      "205  2025-01-15 오전      전라남도  41.538462\n",
      "206  2025-01-15 오전     전북자치도  40.769231\n",
      "207  2025-01-15 오전       제주도  43.076923\n",
      "208  2025-01-15 오전      충청남도  29.230769\n",
      "209  2025-01-15 오전      충청북도  22.307692\n",
      "210  2025-01-15 오후      강원영동  14.285714\n",
      "211  2025-01-15 오후      강원영서  10.000000\n",
      "212  2025-01-15 오후      경상남도  17.142857\n",
      "213  2025-01-15 오후      경상북도  10.000000\n",
      "214  2025-01-15 오후  서울.인천.경기  10.000000\n",
      "215  2025-01-15 오후      전라남도  55.714286\n",
      "216  2025-01-15 오후     전북자치도  55.714286\n",
      "217  2025-01-15 오후       제주도  61.428571\n",
      "218  2025-01-15 오후      충청남도  20.000000\n",
      "219  2025-01-15 오후      충청북도  12.857143\n",
      "220  2025-01-16 오전      강원영동  16.153846\n"
     ]
    }
   ],
   "source": [
    "grouped_forecast = (\n",
    "    forecast.groupby([\"예보시각\", \"지역\"])[\n",
    "        \"강수확률(%)\"\n",
    "    ]  # 4일전 - 7일전에 예측한 값에 대한 평균\n",
    "    .mean()\n",
    "    .reset_index()\n",
    ")\n",
    "\n",
    "print(\"=== 그룹화된 데이터 ===\")\n",
    "print(grouped_forecast.loc[170:220])"
   ]
  },
  {
   "cell_type": "code",
   "execution_count": 52,
   "id": "8c8e8b34",
   "metadata": {},
   "outputs": [
    {
     "name": "stdout",
     "output_type": "stream",
     "text": [
      "=== 날짜별 그룹화 ===\n",
      "            예보시각        지역        발표날짜  강수확률(%)\n",
      "0  2025-01-05 오전      강원영동  2025-01-01     20.0\n",
      "1  2025-01-05 오전      강원영서  2025-01-01     40.0\n",
      "2  2025-01-05 오전      경상남도  2025-01-01     20.0\n",
      "3  2025-01-05 오전      경상북도  2025-01-01     30.0\n",
      "4  2025-01-05 오전  서울.인천.경기  2025-01-01     20.0\n"
     ]
    }
   ],
   "source": [
    "# 발표시각을 날짜와 시간으로 분리해서 더 세밀하게 분석\n",
    "forecast[\"발표날짜\"] = pd.to_datetime(\n",
    "    forecast[\"발표시각\"].str.replace(\"시\", \"\"), format=\"%Y-%m-%d %H\"\n",
    ").dt.date\n",
    "forecast[\"발표시간\"] = pd.to_datetime(\n",
    "    forecast[\"발표시각\"].str.replace(\"시\", \"\"), format=\"%Y-%m-%d %H\"\n",
    ").dt.hour\n",
    "\n",
    "# 예보시각, 지역, 발표날짜로 그룹화\n",
    "grouped_by_date = (\n",
    "    forecast.groupby([\"예보시각\", \"지역\", \"발표날짜\"])[\"강수확률(%)\"]\n",
    "    .mean()\n",
    "    .reset_index()\n",
    ")\n",
    "\n",
    "print(\"=== 날짜별 그룹화 ===\")\n",
    "print(grouped_by_date.head())"
   ]
  },
  {
   "cell_type": "markdown",
   "id": "e41f8f1d",
   "metadata": {},
   "source": [
    "날짜에 대한 전처리\n"
   ]
  },
  {
   "cell_type": "code",
   "execution_count": 69,
   "id": "a74d12b4",
   "metadata": {},
   "outputs": [],
   "source": [
    "df_new_forecast = forecast.copy()\n",
    "df_new_forecast.columns = [\n",
    "    \"forecast_time\",\n",
    "    \"region\",\n",
    "    \"forecast_issue_time\",\n",
    "    \"weather_condition\",\n",
    "    \"rain_probability\",\n",
    "    \"region_code\",\n",
    "]"
   ]
  },
  {
   "cell_type": "code",
   "execution_count": 70,
   "id": "789e8b27",
   "metadata": {},
   "outputs": [
    {
     "name": "stdout",
     "output_type": "stream",
     "text": [
      "    forecast_time    region forecast_issue_time weather_condition  \\\n",
      "0  2025-01-01 06시  서울.인천.경기       2025-01-05 오전              구름많음   \n",
      "1  2025-01-01 06시  서울.인천.경기       2025-01-05 오후           흐리고 비/눈   \n",
      "2  2025-01-01 06시  서울.인천.경기       2025-01-06 오전           흐리고 비/눈   \n",
      "3  2025-01-01 06시  서울.인천.경기       2025-01-06 오후              구름많음   \n",
      "4  2025-01-01 06시  서울.인천.경기       2025-01-07 오전              구름많음   \n",
      "\n",
      "   rain_probability region_code  \n",
      "0                20    11B00000  \n",
      "1                70    11B00000  \n",
      "2                60    11B00000  \n",
      "3                20    11B00000  \n",
      "4                20    11B00000  \n"
     ]
    }
   ],
   "source": [
    "print(df_new_forecast.head())"
   ]
  },
  {
   "cell_type": "code",
   "execution_count": null,
   "id": "9fdfa7dd",
   "metadata": {},
   "outputs": [
    {
     "name": "stdout",
     "output_type": "stream",
     "text": [
      "        forecast_time    region forecast_issue_time weather_condition  \\\n",
      "0 2025-01-01 06:00:00  서울.인천.경기       2025-01-05 오전              구름많음   \n",
      "1 2025-01-01 06:00:00  서울.인천.경기       2025-01-05 오후           흐리고 비/눈   \n",
      "2 2025-01-01 06:00:00  서울.인천.경기       2025-01-06 오전           흐리고 비/눈   \n",
      "3 2025-01-01 06:00:00  서울.인천.경기       2025-01-06 오후              구름많음   \n",
      "4 2025-01-01 06:00:00  서울.인천.경기       2025-01-07 오전              구름많음   \n",
      "\n",
      "   rain_probability region_code  \n",
      "0                20    11B00000  \n",
      "1                70    11B00000  \n",
      "2                60    11B00000  \n",
      "3                20    11B00000  \n",
      "4                20    11B00000  \n"
     ]
    }
   ],
   "source": [
    "# 1. forecast_time (발표시각) 변환: \"2025-01-01 06시\" -> datetime\n",
    "df_new_forecast[\"forecast_time\"] = pd.to_datetime(\n",
    "    df_new_forecast[\"forecast_time\"].str.replace(\"시\", \"\"),\n",
    "    format=\"%Y-%m-%d %H\",\n",
    ")\n",
    "\n",
    "print(df_new_forecast.head())"
   ]
  },
  {
   "cell_type": "code",
   "execution_count": 72,
   "id": "42c3a77d",
   "metadata": {},
   "outputs": [
    {
     "name": "stdout",
     "output_type": "stream",
     "text": [
      "        forecast_time    region forecast_issue_time weather_condition  \\\n",
      "0 2025-01-01 06:00:00  서울.인천.경기 2025-01-05 06:00:00              구름많음   \n",
      "1 2025-01-01 06:00:00  서울.인천.경기 2025-01-05 18:00:00           흐리고 비/눈   \n",
      "2 2025-01-01 06:00:00  서울.인천.경기 2025-01-06 06:00:00           흐리고 비/눈   \n",
      "3 2025-01-01 06:00:00  서울.인천.경기 2025-01-06 18:00:00              구름많음   \n",
      "4 2025-01-01 06:00:00  서울.인천.경기 2025-01-07 06:00:00              구름많음   \n",
      "\n",
      "   rain_probability region_code  \n",
      "0                20    11B00000  \n",
      "1                70    11B00000  \n",
      "2                60    11B00000  \n",
      "3                20    11B00000  \n",
      "4                20    11B00000  \n"
     ]
    }
   ],
   "source": [
    "# 2. forecast_issue_time (예보시각) 변환: \"2025-01-05 오전\" -> datetime\n",
    "def convert_forecast_issue_time(time_str):\n",
    "    # \"2025-01-05 오전\" -> \"2025-01-05 06:00\"\n",
    "    # \"2025-01-05 오후\" -> \"2025-01-05 18:00\"\n",
    "    date_part = time_str.split(\" \")[0]\n",
    "    time_part = time_str.split(\" \")[1]\n",
    "\n",
    "    if time_part == \"오전\":\n",
    "        return pd.to_datetime(f\"{date_part} 06:00\")\n",
    "    elif time_part == \"오후\":\n",
    "        return pd.to_datetime(f\"{date_part} 18:00\")\n",
    "    else:\n",
    "        return pd.to_datetime(f\"{date_part} 12:00\")\n",
    "\n",
    "\n",
    "df_new_forecast[\"forecast_issue_time\"] = df_new_forecast[\n",
    "    \"forecast_issue_time\"\n",
    "].apply(convert_forecast_issue_time)\n",
    "\n",
    "print(df_new_forecast.head())\n",
    "\n",
    "# 3. 강수확률을 숫자로 변환\n",
    "df_new_forecast[\"rain_probability\"] = pd.to_numeric(\n",
    "    df_new_forecast[\"rain_probability\"], errors=\"coerce\"\n",
    ")"
   ]
  },
  {
   "cell_type": "code",
   "execution_count": 75,
   "id": "55ca3952",
   "metadata": {},
   "outputs": [],
   "source": [
    "df_new_forecast.to_csv(\"./../../data/rainfall/forecast.csv\", index=False)"
   ]
  },
  {
   "cell_type": "markdown",
   "id": "5950ed0a",
   "metadata": {},
   "source": [
    "기상청 api 허브에서 일별 데이터 가져오기\n"
   ]
  },
  {
   "cell_type": "code",
   "execution_count": 5,
   "id": "f278515d",
   "metadata": {},
   "outputs": [
    {
     "name": "stdout",
     "output_type": "stream",
     "text": [
      "https://apihub.kma.go.kr/api/typ01/url/kma_sfcdd3.php?tm1=20250101&tm2=20251028&stn=0&help=1&authKey=SlrOsr3ATpCazrK9wM6QMg&mode=0\n",
      "header ['TM', 'STN', 'WS_AVG', 'WR_DAY', 'WD_MAX', 'WS_MAX', 'WS_MAX_TM', 'WD_INS', 'WS_INS', 'WS_INS_TM', 'TA_AVG', 'TA_MAX', 'TA_MAX_TM', 'TA_MIN', 'TA_MIN_TM', 'TD_AVG', 'TS_AVG', 'TG_MIN', 'HM_AVG', 'HM_MIN', 'HM_MIN_TM', 'PV_AVG', 'EV_S', 'EV_L', 'FG_DUR', 'PA_AVG', 'PS_AVG', 'PS_MAX', 'PS_MAX_TM', 'PS_MIN', 'PS_MIN_TM', 'CA_TOT', 'SS_DAY', 'SS_DUR', 'SS_CMB', 'SI_DAY', 'SI_60M_MAX', 'SI_60M_MAX_TM', 'RN_DAY', 'RN_D99', 'RN_DUR', 'RN_60M_MAX', 'RN_60M_MAX_TM', 'RN_10M_MAX', 'RN_10M_MAX_TM', 'RN_POW_MAX', 'RN_POW_MAX_TM', 'SD_NEW', 'SD_NEW_TM', 'SD_MAX', 'SD_MAX_TM', 'TE_05', 'TE_10', 'TE_15', 'TE_30', 'TE_50'], len: 56\n",
      "         TM STN WS_AVG WR_DAY WD_MAX WS_MAX WS_MAX_TM WD_INS WS_INS WS_INS_TM  \\\n",
      "0  20250101  90    3.3   2866     29    6.0        20     27   11.6      1025   \n",
      "1  20250101  93    0.8    717     23    4.0      1547     23    6.6      1525   \n",
      "2  20250101  95    1.0    823     23    3.7      1404     23    7.0      1256   \n",
      "3  20250101  98    0.9    736     29    4.4      1455     27    8.0      1446   \n",
      "4  20250101  99    0.8    650     32    3.7      1446     34    6.5      1441   \n",
      "\n",
      "   ... RN_POW_MAX_TM SD_NEW SD_NEW_TM SD_MAX SD_MAX_TM  TE_05  TE_10  TE_15  \\\n",
      "0  ...            -9   -9.0        -9   -9.0        -9  -99.0  -99.0  -99.0   \n",
      "1  ...            -9   -9.0        -9   -9.0        -9    1.6    5.3    9.6   \n",
      "2  ...            -9   -9.0        -9   -9.0        -9  -99.0  -99.0  -99.0   \n",
      "3  ...            -9   -9.0        -9   -9.0        -9  -99.0  -99.0  -99.0   \n",
      "4  ...            -9   -9.0        -9   -9.0        -9  -99.0  -99.0  -99.0   \n",
      "\n",
      "   TE_30  TE_50  \n",
      "0  -99.0  -99.0  \n",
      "1   16.7   18.5  \n",
      "2  -99.0  -99.0  \n",
      "3  -99.0  -99.0  \n",
      "4  -99.0  -99.0  \n",
      "\n",
      "[5 rows x 56 columns]\n"
     ]
    }
   ],
   "source": [
    "tm1 = \"20250101\"\n",
    "tm2 = \"20251028\"\n",
    "\n",
    "date_url = \"https://apihub.kma.go.kr/api/typ01/url/kma_sfcdd3.php?tm1=20250101&tm2=20251028&stn=0&help=1&authKey=SlrOsr3ATpCazrK9wM6QMg&mode=0\"\n",
    "\n",
    "print(date_url)\n",
    "\n",
    "df_date = CreateDataFrameFromText(date_url).create_dataframe()\n",
    "print(df_date.head())"
   ]
  },
  {
   "cell_type": "code",
   "execution_count": 6,
   "id": "45254ac4",
   "metadata": {},
   "outputs": [],
   "source": [
    "df_date.to_csv(\"./rainfall_daily.csv\", index=False)"
   ]
  },
  {
   "cell_type": "code",
   "execution_count": 15,
   "id": "ba531e22",
   "metadata": {},
   "outputs": [
    {
     "name": "stdout",
     "output_type": "stream",
     "text": [
      "         TM STN RN_DUR RN_D99\n",
      "0  20250101  90  -9.00   -9.0\n",
      "1  20250101  93  -9.00   -9.0\n",
      "2  20250101  95  -9.00   -9.0\n",
      "3  20250101  98  -9.00   -9.0\n",
      "4  20250101  99  -9.00   -9.0\n"
     ]
    }
   ],
   "source": [
    "headers = [\"TM\", \"STN\", \"RN_DUR\", \"RN_D99\"]\n",
    "\n",
    "df_rainfall = df_date[headers].copy()\n",
    "print(df_rainfall.head())"
   ]
  },
  {
   "cell_type": "code",
   "execution_count": 16,
   "id": "606939dd",
   "metadata": {},
   "outputs": [],
   "source": [
    "df_rainfall[\"RN_DUR\"] = pd.to_numeric(df_rainfall[\"RN_DUR\"], errors=\"coerce\")\n",
    "df_rainfall[\"RN_D99\"] = pd.to_numeric(df_rainfall[\"RN_D99\"], errors=\"coerce\")"
   ]
  },
  {
   "cell_type": "code",
   "execution_count": 20,
   "id": "47d5e295",
   "metadata": {},
   "outputs": [
    {
     "name": "stdout",
     "output_type": "stream",
     "text": [
      "          TM  STN  RN_DUR  RN_D99  RAIN_YN\n",
      "0   20250101   90    -9.0    -9.0    False\n",
      "1   20250101   93    -9.0    -9.0    False\n",
      "2   20250101   95    -9.0    -9.0    False\n",
      "3   20250101   98    -9.0    -9.0    False\n",
      "4   20250101   99    -9.0    -9.0    False\n",
      "5   20250101  100    -9.0    -9.0    False\n",
      "6   20250101  101    -9.0    -9.0    False\n",
      "7   20250101  102    -9.0    -9.0    False\n",
      "8   20250101  104    -9.0    -9.0    False\n",
      "9   20250101  105    -9.0    -9.0    False\n",
      "10  20250101  106    -9.0    -9.0    False\n",
      "11  20250101  108    -9.0    -9.0    False\n",
      "12  20250101  112    -9.0    -9.0    False\n",
      "13  20250101  114    -9.0    -9.0    False\n",
      "14  20250101  115    -9.0    -9.0    False\n",
      "15  20250101  119    -9.0    -9.0    False\n",
      "16  20250101  121    -9.0    -9.0    False\n",
      "17  20250101  127    -9.0    -9.0    False\n",
      "18  20250101  129    -9.0    -9.0    False\n",
      "19  20250101  130    -9.0    -9.0    False\n",
      "20  20250101  131    -9.0    -9.0    False\n",
      "21  20250101  133    -9.0    -9.0    False\n",
      "22  20250101  135    -9.0    -9.0    False\n",
      "23  20250101  136    -9.0    -9.0    False\n",
      "24  20250101  137    -9.0    -9.0    False\n",
      "25  20250101  138    -9.0    -9.0    False\n",
      "26  20250101  140    -9.0    -9.0    False\n",
      "27  20250101  143    -9.0    -9.0    False\n",
      "28  20250101  146    -9.0    -9.0    False\n",
      "29  20250101  152    -9.0    -9.0    False\n",
      "30  20250101  155    -9.0    -9.0    False\n",
      "31  20250101  156    -9.0    -9.0    False\n",
      "32  20250101  159    -9.0    -9.0    False\n",
      "33  20250101  162    -9.0    -9.0    False\n",
      "34  20250101  165    -9.0    -9.0    False\n",
      "35  20250101  168    -9.0    -9.0    False\n",
      "36  20250101  169    -9.0    -9.0    False\n",
      "37  20250101  170    -9.0    -9.0    False\n",
      "38  20250101  172    -9.0    -9.0    False\n",
      "39  20250101  174    -9.0    -9.0    False\n",
      "40  20250101  177    -9.0    -9.0    False\n",
      "41  20250101  181    -9.0    -9.0    False\n",
      "42  20250101  184    -9.0    -9.0    False\n",
      "43  20250101  185    -9.0    -9.0    False\n",
      "44  20250101  188    -9.0    -9.0    False\n",
      "45  20250101  189    -9.0    -9.0    False\n",
      "46  20250101  192    -9.0    -9.0    False\n",
      "47  20250101  201    -9.0    -9.0    False\n",
      "48  20250101  202    -9.0    -9.0    False\n",
      "49  20250101  203    -9.0    -9.0    False\n",
      "        date stn_id  rain_dur  rain_d99  rain_yn\n",
      "0   20250101     90      -9.0      -9.0    False\n",
      "1   20250101     93      -9.0      -9.0    False\n",
      "2   20250101     95      -9.0      -9.0    False\n",
      "3   20250101     98      -9.0      -9.0    False\n",
      "4   20250101     99      -9.0      -9.0    False\n",
      "5   20250101    100      -9.0      -9.0    False\n",
      "6   20250101    101      -9.0      -9.0    False\n",
      "7   20250101    102      -9.0      -9.0    False\n",
      "8   20250101    104      -9.0      -9.0    False\n",
      "9   20250101    105      -9.0      -9.0    False\n",
      "10  20250101    106      -9.0      -9.0    False\n",
      "11  20250101    108      -9.0      -9.0    False\n",
      "12  20250101    112      -9.0      -9.0    False\n",
      "13  20250101    114      -9.0      -9.0    False\n",
      "14  20250101    115      -9.0      -9.0    False\n",
      "15  20250101    119      -9.0      -9.0    False\n",
      "16  20250101    121      -9.0      -9.0    False\n",
      "17  20250101    127      -9.0      -9.0    False\n",
      "18  20250101    129      -9.0      -9.0    False\n",
      "19  20250101    130      -9.0      -9.0    False\n",
      "20  20250101    131      -9.0      -9.0    False\n",
      "21  20250101    133      -9.0      -9.0    False\n",
      "22  20250101    135      -9.0      -9.0    False\n",
      "23  20250101    136      -9.0      -9.0    False\n",
      "24  20250101    137      -9.0      -9.0    False\n",
      "25  20250101    138      -9.0      -9.0    False\n",
      "26  20250101    140      -9.0      -9.0    False\n",
      "27  20250101    143      -9.0      -9.0    False\n",
      "28  20250101    146      -9.0      -9.0    False\n",
      "29  20250101    152      -9.0      -9.0    False\n",
      "30  20250101    155      -9.0      -9.0    False\n",
      "31  20250101    156      -9.0      -9.0    False\n",
      "32  20250101    159      -9.0      -9.0    False\n",
      "33  20250101    162      -9.0      -9.0    False\n",
      "34  20250101    165      -9.0      -9.0    False\n",
      "35  20250101    168      -9.0      -9.0    False\n",
      "36  20250101    169      -9.0      -9.0    False\n",
      "37  20250101    170      -9.0      -9.0    False\n",
      "38  20250101    172      -9.0      -9.0    False\n",
      "39  20250101    174      -9.0      -9.0    False\n",
      "40  20250101    177      -9.0      -9.0    False\n",
      "41  20250101    181      -9.0      -9.0    False\n",
      "42  20250101    184      -9.0      -9.0    False\n",
      "43  20250101    185      -9.0      -9.0    False\n",
      "44  20250101    188      -9.0      -9.0    False\n",
      "45  20250101    189      -9.0      -9.0    False\n",
      "46  20250101    192      -9.0      -9.0    False\n",
      "47  20250101    201      -9.0      -9.0    False\n",
      "48  20250101    202      -9.0      -9.0    False\n",
      "49  20250101    203      -9.0      -9.0    False\n"
     ]
    }
   ],
   "source": [
    "df_rainfall[\"RAIN_YN\"] = (df_rainfall[\"RN_DUR\"] > 0) | (\n",
    "    df_rainfall[\"RN_D99\"] > 0\n",
    ")\n",
    "print(df_rainfall.head(50))\n",
    "\n",
    "columns = [\"date\", \"stn_id\", \"rain_dur\", \"rain_d99\", \"rain_yn\"]\n",
    "df_rainfall.columns = columns\n",
    "print(df_rainfall.head(50))\n",
    "df_rainfall.to_csv(\"./../../data/rainfall/rainfall_daily.csv\", index=False)"
   ]
  },
  {
   "cell_type": "code",
   "execution_count": null,
   "id": "8142fb45",
   "metadata": {},
   "outputs": [],
   "source": []
  }
 ],
 "metadata": {
  "kernelspec": {
   "display_name": "venv",
   "language": "python",
   "name": "python3"
  },
  "language_info": {
   "codemirror_mode": {
    "name": "ipython",
    "version": 3
   },
   "file_extension": ".py",
   "mimetype": "text/x-python",
   "name": "python",
   "nbconvert_exporter": "python",
   "pygments_lexer": "ipython3",
   "version": "3.11.13"
  }
 },
 "nbformat": 4,
 "nbformat_minor": 5
}
