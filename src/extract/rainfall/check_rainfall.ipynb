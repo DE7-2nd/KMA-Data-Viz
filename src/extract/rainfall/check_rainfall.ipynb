{
 "cells": [
  {
   "cell_type": "markdown",
   "id": "05eb6179",
   "metadata": {},
   "source": [
    "## 라이브러리 로드 및 환경변수 로드\n"
   ]
  },
  {
   "cell_type": "code",
   "execution_count": null,
   "id": "4a844a4a",
   "metadata": {},
   "outputs": [],
   "source": [
    "import os\n",
    "from datetime import datetime\n",
    "from dotenv import load_dotenv\n",
    "import requests\n",
    "import pandas as pd\n",
    "\n",
    "load_dotenv()\n",
    "# 환경 변수 로드\n",
    "API_KEY = os.getenv(\"API_KEY\")\n",
    "\n",
    "stn = 0  # 지상 관측 지점 코드"
   ]
  },
  {
   "cell_type": "markdown",
   "id": "0cc2c19e",
   "metadata": {},
   "source": [
    "## API 로 받아온 데이터의 DataFrame으로의 변환 저장\n",
    "\n",
    "- `class CreateDataFrameFromText`\n",
    "- `class CreateDataFrameFromJson`\n"
   ]
  },
  {
   "cell_type": "code",
   "execution_count": 2,
   "id": "497b9567",
   "metadata": {},
   "outputs": [],
   "source": [
    "class CreateDataFrameFromText:\n",
    "    \"\"\"\n",
    "    기상청에서 api 추출 후 데이터 파싱\n",
    "    - 형식이 제대로 되어있지 않아서 공백split()을 통해서 파싱 처리\n",
    "    - 헤더 정보 추출 시 주석에서 헤더 정보 추출\n",
    "    - 데이터 파싱 시 예외 케이스 처리\n",
    "    \"\"\"\n",
    "\n",
    "    def __init__(self, url, header=None):\n",
    "        self.url = url\n",
    "        self.header = header\n",
    "\n",
    "    def get_response(self):\n",
    "        response = requests.get(self.url)\n",
    "        response = response.text\n",
    "        return response\n",
    "\n",
    "    def get_data(self, txt):\n",
    "        \"\"\"\n",
    "        데이터 파싱\n",
    "        \"\"\"\n",
    "\n",
    "        # 예외 케이스\n",
    "        txt = txt.replace(\" Gun\", \"gun\")\n",
    "\n",
    "        lines = txt.strip().split(\"\\n\")\n",
    "        for idx, line in enumerate(lines):\n",
    "            if not line.startswith(\"#\"):\n",
    "                break\n",
    "        data_rows = lines[idx:-1]\n",
    "        data = [data_row.strip().split() for data_row in data_rows]\n",
    "        return data\n",
    "\n",
    "    def get_header_data(self, txt):\n",
    "        \"\"\"주석에서 헤더 정보 추출\"\"\"\n",
    "\n",
    "        headers = []\n",
    "        lines = txt.strip().split(\"\\n\")\n",
    "\n",
    "        for line in lines:\n",
    "            if line.startswith(\"#\") and \":\" in line:\n",
    "                header_name = line.split(\":\")[0].split()[-1]\n",
    "                headers.append(header_name)\n",
    "\n",
    "        return headers\n",
    "\n",
    "    def check_data(self, header, columns):\n",
    "        print(f\"header {header}, len: {len(header)}\")\n",
    "        for i in columns:\n",
    "            if len(i) != len(header):\n",
    "                print(f\"column len: {i},{len(i)}\")\n",
    "                return False\n",
    "        return True\n",
    "\n",
    "    def create_dataframe(self):\n",
    "        txt = self.get_response()\n",
    "        data = self.get_data(txt)\n",
    "\n",
    "        if self.header:\n",
    "            header = self.header\n",
    "        else:\n",
    "            header = self.get_header_data(txt)\n",
    "\n",
    "        if not self.check_data(header, data):\n",
    "            raise ValueError(\"header와 columns의 길이가 다릅니다.\")\n",
    "\n",
    "        df = pd.DataFrame(data, columns=header)\n",
    "        return df"
   ]
  },
  {
   "cell_type": "code",
   "execution_count": 3,
   "id": "79dfc092",
   "metadata": {},
   "outputs": [],
   "source": [
    "class CreateDataFrameFromJson:\n",
    "    \"\"\"\n",
    "    기상청에서 api 추출 후 데이터 파싱\n",
    "    - json 형식으로 추출 후 데이터 파싱\n",
    "    \"\"\"\n",
    "\n",
    "    def __init__(self, url, tm=None):\n",
    "        self.url = url\n",
    "        self.tm = tm\n",
    "\n",
    "    def get_response(self):\n",
    "        response = requests.get(self.url)\n",
    "        response = response.json()\n",
    "        return response[\"response\"][\"body\"][\"items\"][\"item\"]\n",
    "\n",
    "    def create_dataframe(self):\n",
    "        data = self.get_response()\n",
    "        print(len(data))\n",
    "        df = pd.DataFrame(data)\n",
    "        # df.insert(0, \"TM\", self.tm) -> 예보 시각 추가\n",
    "        return df"
   ]
  },
  {
   "cell_type": "markdown",
   "id": "eae8b81a",
   "metadata": {},
   "source": [
    "#### CreateDataFrameFromJson 테스트 및 예보 데이터 취합 & 저장\n"
   ]
  },
  {
   "cell_type": "markdown",
   "id": "ea3c6535",
   "metadata": {},
   "source": [
    "예보 24시간 동안만 확인 가능한 api 최근 24시간 자료\n",
    "\n",
    "- 아직 사용하지 않는 정보 : 실시간 데이터 체크를 하게 되면 정제해서 덧붙일 예정\n",
    "- 하나의 datetime을 설정하여 url 체크 및 csv 덧붙이기\n",
    "- https://apihub.kma.go.kr/api/typ02/openApi/MidFcstInfoService/getMidLandFcst\n"
   ]
  },
  {
   "cell_type": "code",
   "execution_count": null,
   "id": "b7434653",
   "metadata": {},
   "outputs": [
    {
     "name": "stdout",
     "output_type": "stream",
     "text": [
      "202510240600\n"
     ]
    }
   ],
   "source": [
    "tm_noon = datetime.now().strftime(\"202510240600\")\n",
    "print(tm_noon)\n",
    "# 일 2회(06:00,18:00)회 생성 되며 발표시각을 입력 YYYYMMDD0600(1800)-최근 24시간 자료만 제공\n",
    "\n",
    "raining_forcast_url = f\"https://apihub.kma.go.kr/api/typ02/openApi/MidFcstInfoService/getMidLandFcst?pageNo=1&numOfRows=10&dataType=JSON&regId=11B00000&tmFc={tm_noon}&authKey={API_KEY}\"\n",
    "\n",
    "\n",
    "new_df = CreateDataFrameFromJson(\n",
    "    raining_forcast_url, tm_noon\n",
    ").create_dataframe()\n",
    "filename = \"./forecast_rain.csv\"\n",
    "\n",
    "# ---------------------- check csv file\n",
    "# try:\n",
    "#     df = pd.read_csv(filename)\n",
    "#     combined_df = pd.concat([df, new_df], ignore_index=True)\n",
    "#     combined_df.to_csv(filename, index=False)\n",
    "\n",
    "# except FileNotFoundError:\n",
    "#     new_df.to_csv(filename, mode=\"w\", header=True, index=False)"
   ]
  },
  {
   "cell_type": "markdown",
   "id": "81aa264c",
   "metadata": {},
   "source": [
    "### 중기예보 데이터 셋 확인 및 변환\n",
    "\n",
    "- 데이터 분석을 어떻게 할지 데이터 셋 확인\n"
   ]
  },
  {
   "cell_type": "code",
   "execution_count": 64,
   "id": "21d609b4",
   "metadata": {},
   "outputs": [
    {
     "name": "stdout",
     "output_type": "stream",
     "text": [
      "                 발표시각        지역           예보시각       예보  강수확률(%)\n",
      "0      2025-01-01 06시  서울.인천.경기  2025-01-05 오전     구름많음       20\n",
      "1      2025-01-01 06시  서울.인천.경기  2025-01-05 오후  흐리고 비/눈       70\n",
      "2      2025-01-01 06시  서울.인천.경기  2025-01-06 오전  흐리고 비/눈       60\n",
      "3      2025-01-01 06시  서울.인천.경기  2025-01-06 오후     구름많음       20\n",
      "4      2025-01-01 06시  서울.인천.경기  2025-01-07 오전     구름많음       20\n",
      "...               ...       ...            ...      ...      ...\n",
      "59195  2025-10-23 18시      경상남도  2025-10-30 오전     구름많음       30\n",
      "59196  2025-10-23 18시      경상남도  2025-10-30 오후     구름많음       30\n",
      "59197  2025-10-23 18시      경상남도  2025-10-31 오전       흐림       40\n",
      "59198  2025-10-23 18시      경상남도  2025-11-01 오전       맑음       20\n",
      "59199  2025-10-23 18시      경상남도  2025-11-02 오전       맑음       10\n",
      "\n",
      "[59200 rows x 5 columns]\n",
      "Index(['발표시각', '지역', '예보시각', '예보', '강수확률(%)'], dtype='object')\n"
     ]
    }
   ],
   "source": [
    "forecast = pd.read_csv(\"./FCT_2025.csv\")\n",
    "print(forecast)\n",
    "print(forecast.columns)"
   ]
  },
  {
   "cell_type": "code",
   "execution_count": null,
   "id": "9ea8fd80",
   "metadata": {},
   "outputs": [
    {
     "name": "stdout",
     "output_type": "stream",
     "text": [
      "발표시각       object\n",
      "지역         object\n",
      "예보시각       object\n",
      "예보         object\n",
      "강수확률(%)     int64\n",
      "dtype: object\n",
      "(59200, 5)\n",
      "<class 'pandas.core.frame.DataFrame'>\n",
      "RangeIndex: 59200 entries, 0 to 59199\n",
      "Data columns (total 5 columns):\n",
      " #   Column   Non-Null Count  Dtype \n",
      "---  ------   --------------  ----- \n",
      " 0   발표시각     59200 non-null  object\n",
      " 1   지역       59200 non-null  object\n",
      " 2   예보시각     59200 non-null  object\n",
      " 3   예보       59200 non-null  object\n",
      " 4   강수확률(%)  59200 non-null  int64 \n",
      "dtypes: int64(1), object(4)\n",
      "memory usage: 2.3+ MB\n",
      "None\n",
      "            강수확률(%)\n",
      "count  59200.000000\n",
      "mean      31.448480\n",
      "std       18.145816\n",
      "min       10.000000\n",
      "25%       20.000000\n",
      "50%       30.000000\n",
      "75%       40.000000\n",
      "max       90.000000\n",
      "발표시각       0\n",
      "지역         0\n",
      "예보시각       0\n",
      "예보         0\n",
      "강수확률(%)    0\n",
      "dtype: int64\n",
      "발표시각       0.0\n",
      "지역         0.0\n",
      "예보시각       0.0\n",
      "예보         0.0\n",
      "강수확률(%)    0.0\n",
      "dtype: float64\n"
     ]
    }
   ],
   "source": [
    "print(forecast.dtypes)\n",
    "print(forecast.shape)\n",
    "print(forecast.info())\n",
    "print(forecast.describe())\n",
    "print(forecast.isnull().sum())\n",
    "print(forecast.isnull().sum() / len(forecast))"
   ]
  },
  {
   "cell_type": "markdown",
   "id": "20a73fb5",
   "metadata": {},
   "source": [
    "지역확인\n"
   ]
  },
  {
   "cell_type": "code",
   "execution_count": 31,
   "id": "0b3c8a55",
   "metadata": {},
   "outputs": [
    {
     "name": "stdout",
     "output_type": "stream",
     "text": [
      "=== 지역별 고유값 ===\n",
      "['서울.인천.경기' '충청북도' '충청남도' '강원영서' '강원영동' '전북자치도' '전라남도' '제주도' '경상북도' '경상남도']\n",
      "\n",
      "총 지역 수: 10\n",
      "\n",
      "=== 지역별 데이터 개수 ===\n",
      "지역\n",
      "서울.인천.경기    5920\n",
      "충청북도        5920\n",
      "충청남도        5920\n",
      "강원영서        5920\n",
      "강원영동        5920\n",
      "전북자치도       5920\n",
      "전라남도        5920\n",
      "제주도         5920\n",
      "경상북도        5920\n",
      "경상남도        5920\n",
      "Name: count, dtype: int64\n"
     ]
    }
   ],
   "source": [
    "# 지역 컬럼의 고유값 확인\n",
    "print(\"=== 지역별 고유값 ===\")\n",
    "print(forecast[\"지역\"].unique())\n",
    "print(f\"\\n총 지역 수: {forecast['지역'].nunique()}\")\n",
    "\n",
    "# 지역별 개수 확인\n",
    "print(\"\\n=== 지역별 데이터 개수 ===\")\n",
    "print(forecast[\"지역\"].value_counts())"
   ]
  },
  {
   "cell_type": "markdown",
   "id": "7ee73d4f",
   "metadata": {},
   "source": [
    "예보 값 확인\n"
   ]
  },
  {
   "cell_type": "code",
   "execution_count": 33,
   "id": "e8369745",
   "metadata": {},
   "outputs": [
    {
     "name": "stdout",
     "output_type": "stream",
     "text": [
      "=== 예보별 고유값 ===\n",
      "['구름많음' '흐리고 비/눈' '맑음' '흐림' '구름많고 비/눈' '흐리고 눈' '흐리고 비' '구름많고 눈' '구름많고 비'\n",
      " '구름많고 소나기']\n",
      "\n",
      "총 예보 종류 수: 10\n",
      "\n",
      "=== 예보별 데이터 개수 ===\n",
      "예보\n",
      "구름많음        22970\n",
      "맑음          16184\n",
      "흐림          14338\n",
      "흐리고 비        4519\n",
      "흐리고 비/눈       721\n",
      "흐리고 눈         257\n",
      "구름많고 비/눈       90\n",
      "구름많고 소나기       59\n",
      "구름많고 비         45\n",
      "구름많고 눈         17\n",
      "Name: count, dtype: int64\n"
     ]
    }
   ],
   "source": [
    "# 예보 컬럼의 고유값 확인\n",
    "print(\"=== 예보별 고유값 ===\")\n",
    "print(forecast[\"예보\"].unique())\n",
    "print(f\"\\n총 예보 종류 수: {forecast['예보'].nunique()}\")\n",
    "\n",
    "# 예보별 개수 확인\n",
    "print(\"\\n=== 예보별 데이터 개수 ===\")\n",
    "print(forecast[\"예보\"].value_counts())"
   ]
  },
  {
   "cell_type": "markdown",
   "id": "5fc0d0d1",
   "metadata": {},
   "source": [
    "그냥 sorting만 해주는 그룹화. 모아주는 역할만 함\n"
   ]
  },
  {
   "cell_type": "code",
   "execution_count": 61,
   "id": "bbd0fc2a",
   "metadata": {},
   "outputs": [
    {
     "name": "stdout",
     "output_type": "stream",
     "text": [
      "=== 그룹화된 데이터 ===\n",
      "              예보시각        지역            발표시각  강수확률(%)\n",
      "170  2025-01-07 오후      충청남도  2025-01-01 06시     20.0\n",
      "171  2025-01-07 오후      충청남도  2025-01-01 18시     20.0\n",
      "172  2025-01-07 오후      충청남도  2025-01-02 06시     20.0\n",
      "173  2025-01-07 오후      충청남도  2025-01-02 18시     20.0\n",
      "174  2025-01-07 오후      충청남도  2025-01-03 06시     40.0\n",
      "175  2025-01-07 오후      충청북도  2025-01-01 06시     20.0\n",
      "176  2025-01-07 오후      충청북도  2025-01-01 18시     20.0\n",
      "177  2025-01-07 오후      충청북도  2025-01-02 06시     20.0\n",
      "178  2025-01-07 오후      충청북도  2025-01-02 18시     20.0\n",
      "179  2025-01-07 오후      충청북도  2025-01-03 06시     30.0\n",
      "180  2025-01-08 오전      강원영동  2025-01-01 06시     20.0\n",
      "181  2025-01-08 오전      강원영동  2025-01-01 18시     10.0\n",
      "182  2025-01-08 오전      강원영동  2025-01-02 06시     10.0\n",
      "183  2025-01-08 오전      강원영동  2025-01-02 18시     10.0\n",
      "184  2025-01-08 오전      강원영동  2025-01-03 06시     10.0\n",
      "185  2025-01-08 오전      강원영동  2025-01-03 18시     10.0\n",
      "186  2025-01-08 오전      강원영동  2025-01-04 06시     10.0\n",
      "187  2025-01-08 오전      강원영서  2025-01-01 06시     10.0\n",
      "188  2025-01-08 오전      강원영서  2025-01-01 18시     10.0\n",
      "189  2025-01-08 오전      강원영서  2025-01-02 06시     10.0\n",
      "190  2025-01-08 오전      강원영서  2025-01-02 18시     10.0\n",
      "191  2025-01-08 오전      강원영서  2025-01-03 06시     10.0\n",
      "192  2025-01-08 오전      강원영서  2025-01-03 18시     10.0\n",
      "193  2025-01-08 오전      강원영서  2025-01-04 06시     10.0\n",
      "194  2025-01-08 오전      경상남도  2025-01-01 06시     10.0\n",
      "195  2025-01-08 오전      경상남도  2025-01-01 18시     10.0\n",
      "196  2025-01-08 오전      경상남도  2025-01-02 06시     10.0\n",
      "197  2025-01-08 오전      경상남도  2025-01-02 18시     10.0\n",
      "198  2025-01-08 오전      경상남도  2025-01-03 06시     10.0\n",
      "199  2025-01-08 오전      경상남도  2025-01-03 18시     10.0\n",
      "200  2025-01-08 오전      경상남도  2025-01-04 06시     20.0\n",
      "201  2025-01-08 오전      경상북도  2025-01-01 06시     10.0\n",
      "202  2025-01-08 오전      경상북도  2025-01-01 18시     10.0\n",
      "203  2025-01-08 오전      경상북도  2025-01-02 06시     10.0\n",
      "204  2025-01-08 오전      경상북도  2025-01-02 18시     10.0\n",
      "205  2025-01-08 오전      경상북도  2025-01-03 06시     10.0\n",
      "206  2025-01-08 오전      경상북도  2025-01-03 18시     10.0\n",
      "207  2025-01-08 오전      경상북도  2025-01-04 06시     20.0\n",
      "208  2025-01-08 오전  서울.인천.경기  2025-01-01 06시     10.0\n",
      "209  2025-01-08 오전  서울.인천.경기  2025-01-01 18시     10.0\n",
      "210  2025-01-08 오전  서울.인천.경기  2025-01-02 06시     10.0\n",
      "211  2025-01-08 오전  서울.인천.경기  2025-01-02 18시     10.0\n",
      "212  2025-01-08 오전  서울.인천.경기  2025-01-03 06시     10.0\n",
      "213  2025-01-08 오전  서울.인천.경기  2025-01-03 18시     10.0\n",
      "214  2025-01-08 오전  서울.인천.경기  2025-01-04 06시     10.0\n",
      "215  2025-01-08 오전      전라남도  2025-01-01 06시     70.0\n",
      "216  2025-01-08 오전      전라남도  2025-01-01 18시     70.0\n",
      "217  2025-01-08 오전      전라남도  2025-01-02 06시     70.0\n",
      "218  2025-01-08 오전      전라남도  2025-01-02 18시     70.0\n",
      "219  2025-01-08 오전      전라남도  2025-01-03 06시     90.0\n",
      "220  2025-01-08 오전      전라남도  2025-01-03 18시     80.0\n"
     ]
    }
   ],
   "source": [
    "grouped_forecast = (\n",
    "    forecast.groupby([\"예보시각\", \"지역\", \"발표시각\"])[\"강수확률(%)\"]\n",
    "    .mean()\n",
    "    .reset_index()\n",
    ")\n",
    "\n",
    "print(\"=== 그룹화된 데이터 ===\")\n",
    "print(grouped_forecast.loc[170:220])"
   ]
  },
  {
   "cell_type": "markdown",
   "id": "7c0f4f78",
   "metadata": {},
   "source": [
    "4일전 - 7일전에 예측한 값에 대한 평균을 구하는 그룹화\n"
   ]
  },
  {
   "cell_type": "code",
   "execution_count": null,
   "id": "7ec90018",
   "metadata": {},
   "outputs": [
    {
     "name": "stdout",
     "output_type": "stream",
     "text": [
      "=== 그룹화된 데이터 ===\n",
      "              예보시각        지역    강수확률(%)\n",
      "170  2025-01-13 오후      강원영동  10.000000\n",
      "171  2025-01-13 오후      강원영서  21.428571\n",
      "172  2025-01-13 오후      경상남도  10.000000\n",
      "173  2025-01-13 오후      경상북도  10.000000\n",
      "174  2025-01-13 오후  서울.인천.경기  17.142857\n",
      "175  2025-01-13 오후      전라남도  21.428571\n",
      "176  2025-01-13 오후     전북자치도  20.000000\n",
      "177  2025-01-13 오후       제주도  31.428571\n",
      "178  2025-01-13 오후      충청남도  18.571429\n",
      "179  2025-01-13 오후      충청북도  18.571429\n",
      "180  2025-01-14 오전      강원영동  13.846154\n",
      "181  2025-01-14 오전      강원영서  34.615385\n",
      "182  2025-01-14 오전      경상남도  10.769231\n",
      "183  2025-01-14 오전      경상북도  13.846154\n",
      "184  2025-01-14 오전  서울.인천.경기  18.461538\n",
      "185  2025-01-14 오전      전라남도  26.923077\n",
      "186  2025-01-14 오전     전북자치도  28.461538\n",
      "187  2025-01-14 오전       제주도  26.923077\n",
      "188  2025-01-14 오전      충청남도  23.076923\n",
      "189  2025-01-14 오전      충청북도  19.230769\n",
      "190  2025-01-14 오후      강원영동  10.000000\n",
      "191  2025-01-14 오후      강원영서  20.000000\n",
      "192  2025-01-14 오후      경상남도  25.714286\n",
      "193  2025-01-14 오후      경상북도  22.857143\n",
      "194  2025-01-14 오후  서울.인천.경기  14.285714\n",
      "195  2025-01-14 오후      전라남도  30.000000\n",
      "196  2025-01-14 오후     전북자치도  31.428571\n",
      "197  2025-01-14 오후       제주도  34.285714\n",
      "198  2025-01-14 오후      충청남도  30.000000\n",
      "199  2025-01-14 오후      충청북도  30.000000\n",
      "200  2025-01-15 오전      강원영동  13.076923\n",
      "201  2025-01-15 오전      강원영서  16.923077\n",
      "202  2025-01-15 오전      경상남도  22.307692\n",
      "203  2025-01-15 오전      경상북도  18.461538\n",
      "204  2025-01-15 오전  서울.인천.경기  12.307692\n",
      "205  2025-01-15 오전      전라남도  41.538462\n",
      "206  2025-01-15 오전     전북자치도  40.769231\n",
      "207  2025-01-15 오전       제주도  43.076923\n",
      "208  2025-01-15 오전      충청남도  29.230769\n",
      "209  2025-01-15 오전      충청북도  22.307692\n",
      "210  2025-01-15 오후      강원영동  14.285714\n",
      "211  2025-01-15 오후      강원영서  10.000000\n",
      "212  2025-01-15 오후      경상남도  17.142857\n",
      "213  2025-01-15 오후      경상북도  10.000000\n",
      "214  2025-01-15 오후  서울.인천.경기  10.000000\n",
      "215  2025-01-15 오후      전라남도  55.714286\n",
      "216  2025-01-15 오후     전북자치도  55.714286\n",
      "217  2025-01-15 오후       제주도  61.428571\n",
      "218  2025-01-15 오후      충청남도  20.000000\n",
      "219  2025-01-15 오후      충청북도  12.857143\n",
      "220  2025-01-16 오전      강원영동  16.153846\n"
     ]
    }
   ],
   "source": [
    "grouped_forecast = (\n",
    "    forecast.groupby([\"예보시각\", \"지역\"])[\n",
    "        \"강수확률(%)\"\n",
    "    ]  # 4일전 - 7일전에 예측한 값에 대한 평균\n",
    "    .mean()\n",
    "    .reset_index()\n",
    ")\n",
    "\n",
    "print(\"=== 그룹화된 데이터 ===\")\n",
    "print(grouped_forecast.loc[170:220])"
   ]
  },
  {
   "cell_type": "code",
   "execution_count": 52,
   "id": "8c8e8b34",
   "metadata": {},
   "outputs": [
    {
     "name": "stdout",
     "output_type": "stream",
     "text": [
      "=== 날짜별 그룹화 ===\n",
      "            예보시각        지역        발표날짜  강수확률(%)\n",
      "0  2025-01-05 오전      강원영동  2025-01-01     20.0\n",
      "1  2025-01-05 오전      강원영서  2025-01-01     40.0\n",
      "2  2025-01-05 오전      경상남도  2025-01-01     20.0\n",
      "3  2025-01-05 오전      경상북도  2025-01-01     30.0\n",
      "4  2025-01-05 오전  서울.인천.경기  2025-01-01     20.0\n"
     ]
    }
   ],
   "source": [
    "# 발표시각을 날짜와 시간으로 분리해서 더 세밀하게 분석\n",
    "forecast[\"발표날짜\"] = pd.to_datetime(\n",
    "    forecast[\"발표시각\"].str.replace(\"시\", \"\"), format=\"%Y-%m-%d %H\"\n",
    ").dt.date\n",
    "forecast[\"발표시간\"] = pd.to_datetime(\n",
    "    forecast[\"발표시각\"].str.replace(\"시\", \"\"), format=\"%Y-%m-%d %H\"\n",
    ").dt.hour\n",
    "\n",
    "# 예보시각, 지역, 발표날짜로 그룹화\n",
    "grouped_by_date = (\n",
    "    forecast.groupby([\"예보시각\", \"지역\", \"발표날짜\"])[\"강수확률(%)\"]\n",
    "    .mean()\n",
    "    .reset_index()\n",
    ")\n",
    "\n",
    "print(\"=== 날짜별 그룹화 ===\")\n",
    "print(grouped_by_date.head())"
   ]
  }
 ],
 "metadata": {
  "kernelspec": {
   "display_name": "venv",
   "language": "python",
   "name": "python3"
  },
  "language_info": {
   "codemirror_mode": {
    "name": "ipython",
    "version": 3
   },
   "file_extension": ".py",
   "mimetype": "text/x-python",
   "name": "python",
   "nbconvert_exporter": "python",
   "pygments_lexer": "ipython3",
   "version": "3.11.13"
  }
 },
 "nbformat": 4,
 "nbformat_minor": 5
}
